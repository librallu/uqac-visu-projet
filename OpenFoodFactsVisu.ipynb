{
 "cells": [
  {
   "cell_type": "markdown",
   "metadata": {},
   "source": [
    "# Open foods Facts : Extraction des données\n",
    "\n",
    "Dans ce document, nous nous intéresserons à extraire des données du fichier csv fourni ici : http://fr.openfoodfacts.org/data.\n",
    "\n",
    "En effet, après avoir remarqué que le csv contenait un certain nombre de données manquantes ou des champs compliqués, il\n",
    "semblait important d'effectuer un pré-traitement avant d'utiliser **tulip**.\n",
    "\n",
    "Pour améliorer la vitesse d'exécution des traitements, il sera peut être nécessaire d'enlever certains champs, comme le champ d'ID ou la date de dernière modification en fonction de ce qui nous intéresse.\n",
    "\n",
    "## Informations sur le fichier de données\n",
    "\n",
    "Il s'agit d'un ensemble d'enregistrements de données alimentaires (plus de 80.000 produits enregistrés ayant chacun une centaine d'attributs) \n"
   ]
  },
  {
   "cell_type": "code",
   "execution_count": 3,
   "metadata": {
    "collapsed": false
   },
   "outputs": [
    {
     "name": "stdout",
     "output_type": "stream",
     "text": [
      "500\n",
      "378\n"
     ]
    }
   ],
   "source": [
    "file_name = '500'\n",
    "\n",
    "class Data:\n",
    "    \"\"\"\n",
    "    extracts data from csv.\n",
    "    \"\"\"\n",
    "    \n",
    "    def __init__(self, filename):\n",
    "        \"\"\"\n",
    "        filename: string for the csv file\n",
    "        \"\"\"\n",
    "        self.data_fields = {} # name -> int\n",
    "        self.data_fields_order = []\n",
    "        self.data = [] \n",
    "\n",
    "        with open(filename) as f:\n",
    "            names = f.readline().split('\\t')\n",
    "            for i,name in enumerate(names):\n",
    "                self.data_fields[name] = i\n",
    "                self.data_fields_order.append(name)\n",
    "\n",
    "            for a in f.readlines():\n",
    "                fields = [b.replace('\\n', '') for b in a.split('\\t')]\n",
    "                if len(fields) == len(names):\n",
    "                    self.data.append(fields)\n",
    "    \n",
    "    def get_row(self, i):\n",
    "        \"\"\"\n",
    "            :param i: row number in data\n",
    "            :return: list of field values\n",
    "        \"\"\"\n",
    "        return self.data[i]\n",
    "    \n",
    "    def get_nblines(self):\n",
    "        \"\"\" :return: number of lines in the record \"\"\"\n",
    "        return len(self.data)\n",
    "    \n",
    "    def get_row_dict(self, i):\n",
    "        res = {}\n",
    "        for pos, val in enumerate(self.data_fields_order):\n",
    "            res[val] = self.data[i][pos]\n",
    "        return res\n",
    "    \n",
    "    def get_headers(self):\n",
    "        return self.data_fields.keys()\n",
    "    \n",
    "    def get_fields(self, name):\n",
    "        res = []\n",
    "        i = self.data_fields[name]\n",
    "        for a in self.data:\n",
    "            res.append(a[i])\n",
    "        return res\n",
    "    \n",
    "    def eliminate_nodes(self, fun_check):\n",
    "        \"\"\" if fun_check returns false, eliminate node from data \"\"\"\n",
    "        tmp = []\n",
    "        for i in range(len(self.data)):\n",
    "            if fun_check(self.get_row_dict(i)):\n",
    "                tmp.append(self.data[i])\n",
    "        self.data = tmp\n",
    "    \n",
    "\n",
    "off = Data(file_name+'.csv')\n",
    "\n",
    "def check_name(row):\n",
    "    return row['product_name'] != ''\n",
    "\n",
    "print(off.get_nblines())\n",
    "off.eliminate_nodes(check_name)\n",
    "print(off.get_nblines())\n"
   ]
  },
  {
   "cell_type": "code",
   "execution_count": 25,
   "metadata": {
    "collapsed": false
   },
   "outputs": [
    {
     "name": "stdout",
     "output_type": "stream",
     "text": [
      "['last_modified_t', 'code', 'stores', 'fructose_100g', 'labels', 'energy_100g', 'additives_tags', 'packaging_tags', 'purchase_places', 'beta-carotene_100g', 'fruits-vegetables-nuts_100g', 'caffeine_100g', 'calcium_100g', 'starch_100g', 'fat_100g', 'erucic-acid_100g', 'ingredients_from_palm_oil_n', 'arachidonic-acid_100g', 'butyric-acid_100g', 'fluoride_100g', 'cocoa_100g', 'caprylic-acid_100g', 'magnesium_100g', 'categories', 'allergens_fr', 'labels_tags', 'countries', 'states_fr', 'selenium_100g', 'nervonic-acid_100g', 'image_url', 'countries_fr', 'mead-acid_100g', 'taurine_100g', 'traces', 'biotin_100g', 'vitamin-a_100g', 'lignoceric-acid_100g', 'chloride_100g', 'phosphorus_100g', 'behenic-acid_100g', 'creator', 'countries_tags', 'vitamin-b2_100g', 'nutrition-score-uk_100g\\n', 'cerotic-acid_100g', 'labels_fr', 'stearic-acid_100g', 'ingredients_text', 'arachidic-acid_100g', 'cities_tags', 'traces_fr', 'melissic-acid_100g', 'polyols_100g', 'created_datetime', 'origins_tags', 'first_packaging_code_geo', 'polyunsaturated-fat_100g', 'vitamin-d_100g', 'gondoic-acid_100g', 'maltose_100g', 'silica_100g', 'created_t', 'glucose_100g', 'sodium_100g', 'montanic-acid_100g', 'proteins_100g', 'nutrition_grade_uk', 'bicarbonate_100g', 'cities', 'allergens', 'collagen-meat-protein-ratio_100g', 'zinc_100g', 'origins', 'saturated-fat_100g', 'traces_tags', 'sugars_100g', 'categories_tags', 'serving_size', 'vitamin-b12_100g', 'serum-proteins_100g', 'brands_tags', 'additives', 'carbon-footprint_100g', 'carbohydrates_100g', 'oleic-acid_100g', 'vitamin-b9_100g', 'lauric-acid_100g', 'ingredients_from_palm_oil', 'palmitic-acid_100g', 'emb_codes', 'additives_n', 'packaging', 'salt_100g', 'dihomo-gamma-linolenic-acid_100g', 'vitamin-e_100g', 'ingredients_that_may_be_from_palm_oil_tags', 'image_small_url', 'omega-6-fat_100g', 'myristic-acid_100g', 'iron_100g', 'vitamin-pp_100g', 'chromium_100g', 'sucrose_100g', 'alpha-linolenic-acid_100g', 'main_category', 'molybdenum_100g', 'ph_100g', 'ingredients_from_palm_oil_tags', 'vitamin-b1_100g', 'emb_codes_tags', 'copper_100g', 'vitamin-c_100g', 'ingredients_that_may_be_from_palm_oil', 'states_tags', 'cholesterol_100g', 'chlorophyl_100g', 'monounsaturated-fat_100g', 'omega-3-fat_100g', 'categories_fr', 'docosahexaenoic-acid_100g', 'gamma-linolenic-acid_100g', 'additives_fr', 'vitamin-b6_100g', 'manufacturing_places_tags', 'pnns_groups_2', 'main_category_fr', 'pnns_groups_1', 'omega-9-fat_100g', 'no_nutriments', 'trans-fat_100g', 'last_modified_datetime', 'casein_100g', 'nutrition-score-fr_100g', 'states', 'iodine_100g', 'maltodextrins_100g', 'fiber_100g', 'nucleotides_100g', 'elaidic-acid_100g', 'caproic-acid_100g', 'generic_name', 'manufacturing_places', 'product_name', 'pantothenic-acid_100g', 'nutrition_grade_fr', 'potassium_100g', 'eicosapentaenoic-acid_100g', 'brands', 'ingredients_that_may_be_from_palm_oil_n', 'manganese_100g', 'url', 'vitamin-k_100g', 'energy-from-fat_100g', 'capric-acid_100g', 'alcohol_100g', 'lactose_100g', 'linoleic-acid_100g', 'quantity']\n"
     ]
    }
   ],
   "source": [
    "print(off.get_headers())"
   ]
  },
  {
   "cell_type": "code",
   "execution_count": 26,
   "metadata": {
    "collapsed": false
   },
   "outputs": [
    {
     "name": "stdout",
     "output_type": "stream",
     "text": [
      "['0000000024600', 'http://world-fr.openfoodfacts.org/produit/0000000024600/filet-de-boeuf', 'date-limite-app', '1434530704', '2015-06-17T08:45:04Z', '1434535914', '2015-06-17T10:11:54Z', 'Filet de b\\xc5\\x93uf', '', '2.46 kg', 'plastique', 'plastique', '', '', 'Filet de b\\xc5\\x93uf', 'fr:filet-de-boeuf', 'Filet-de-boeuf', '', '', '', '', '', '', '', '', '', '', '', '', '', '', 'France', 'en:france', 'France', '', '', '', '', '', '', '', '', '', '', '', '', '', '', '', '', '', '', '', '', 'unknown', 'unknown', 'en:to-be-completed, en:nutrition-facts-to-be-completed, en:ingredients-to-be-completed, en:expiration-date-completed, en:characteristics-to-be-completed, en:categories-completed, en:brands-to-be-completed, en:packaging-completed, en:quantity-completed, en:product-name-completed, en:photos-to-be-validated, en:photos-uploaded', 'en:to-be-completed,en:nutrition-facts-to-be-completed,en:ingredients-to-be-completed,en:expiration-date-completed,en:characteristics-to-be-completed,en:categories-completed,en:brands-to-be-completed,en:packaging-completed,en:quantity-completed,en:product-name-completed,en:photos-to-be-validated,en:photos-uploaded', 'A compl\\xc3\\xa9ter,Informations nutritionnelles \\xc3\\xa0 compl\\xc3\\xa9ter,Ingr\\xc3\\xa9dients \\xc3\\xa0 compl\\xc3\\xa9ter,Date limite compl\\xc3\\xa9t\\xc3\\xa9e,Caract\\xc3\\xa9ristiques \\xc3\\xa0 compl\\xc3\\xa9ter,en:Categories-completed,Marques \\xc3\\xa0 compl\\xc3\\xa9ter,en:Packaging-completed,en:Quantity-completed,en:Product-name-completed,Photos \\xc3\\xa0 valider,Photos envoy\\xc3\\xa9es', 'fr:filet-de-boeuf', 'Filet-de-boeuf', 'http://fr.openfoodfacts.org/images/products/000/000/002/4600/front.3.400.jpg', 'http://fr.openfoodfacts.org/images/products/000/000/002/4600/front.3.200.jpg', '', '', '', '', '', '', '', '', '', '', '', '', '', '', '', '', '', '', '', '', '', '', '', '', '', '', '', '', '', '', '', '', '', '', '', '', '', '', '', '', '', '', '', '', '', '', '', '', '', '', '', '', '', '', '', '', '', '', '', '', '', '', '', '', '', '', '', '', '', '', '', '', '', '', '', '', '', '', '', '', '', '', '', '', '', '', '', '', '', '', '', '', '', '', '', '']\n"
     ]
    }
   ],
   "source": [
    "print(off.get_row(0))"
   ]
  },
  {
   "cell_type": "code",
   "execution_count": 27,
   "metadata": {
    "collapsed": false
   },
   "outputs": [
    {
     "name": "stdout",
     "output_type": "stream",
     "text": [
      "last_modified_t                                   : 1434535914\n",
      "code                                              : 0000000024600\n",
      "stores                                            : \n",
      "fructose_100g                                     : \n",
      "labels                                            : \n",
      "energy_100g                                       : \n",
      "additives_tags                                    : \n",
      "packaging_tags                                    : plastique\n",
      "purchase_places                                   : \n",
      "beta-carotene_100g                                : \n",
      "fruits-vegetables-nuts_100g                       : \n",
      "caffeine_100g                                     : \n",
      "calcium_100g                                      : \n",
      "starch_100g                                       : \n",
      "fat_100g                                          : \n",
      "erucic-acid_100g                                  : \n",
      "ingredients_from_palm_oil_n                       : \n",
      "arachidonic-acid_100g                             : \n",
      "butyric-acid_100g                                 : \n",
      "fluoride_100g                                     : \n",
      "cocoa_100g                                        : \n",
      "caprylic-acid_100g                                : \n",
      "magnesium_100g                                    : \n",
      "categories                                        : Filet de bœuf\n",
      "allergens_fr                                      : \n",
      "labels_tags                                       : \n",
      "countries                                         : France\n",
      "states_fr                                         : A compléter,Informations nutritionnelles à compléter,Ingrédients à compléter,Date limite complétée,Caractéristiques à compléter,en:Categories-completed,Marques à compléter,en:Packaging-completed,en:Quantity-completed,en:Product-name-completed,Photos à valider,Photos envoyées\n",
      "selenium_100g                                     : \n",
      "nervonic-acid_100g                                : \n",
      "image_url                                         : http://fr.openfoodfacts.org/images/products/000/000/002/4600/front.3.400.jpg\n",
      "countries_fr                                      : France\n",
      "mead-acid_100g                                    : \n",
      "taurine_100g                                      : \n",
      "traces                                            : \n",
      "biotin_100g                                       : \n",
      "vitamin-a_100g                                    : \n",
      "lignoceric-acid_100g                              : \n",
      "chloride_100g                                     : \n",
      "phosphorus_100g                                   : \n",
      "behenic-acid_100g                                 : \n",
      "creator                                           : date-limite-app\n",
      "countries_tags                                    : en:france\n",
      "vitamin-b2_100g                                   : \n",
      "nutrition-score-uk_100g\n",
      "                          : \n",
      "cerotic-acid_100g                                 : \n",
      "labels_fr                                         : \n",
      "stearic-acid_100g                                 : \n",
      "ingredients_text                                  : \n",
      "arachidic-acid_100g                               : \n",
      "cities_tags                                       : \n",
      "traces_fr                                         : \n",
      "melissic-acid_100g                                : \n",
      "polyols_100g                                      : \n",
      "created_datetime                                  : 2015-06-17T08:45:04Z\n",
      "origins_tags                                      : \n",
      "first_packaging_code_geo                          : \n",
      "polyunsaturated-fat_100g                          : \n",
      "vitamin-d_100g                                    : \n",
      "gondoic-acid_100g                                 : \n",
      "maltose_100g                                      : \n",
      "silica_100g                                       : \n",
      "created_t                                         : 1434530704\n",
      "glucose_100g                                      : \n",
      "sodium_100g                                       : \n",
      "montanic-acid_100g                                : \n",
      "proteins_100g                                     : \n",
      "nutrition_grade_uk                                : \n",
      "bicarbonate_100g                                  : \n",
      "cities                                            : \n",
      "allergens                                         : \n",
      "collagen-meat-protein-ratio_100g                  : \n",
      "zinc_100g                                         : \n",
      "origins                                           : \n",
      "saturated-fat_100g                                : \n",
      "traces_tags                                       : \n",
      "sugars_100g                                       : \n",
      "categories_tags                                   : fr:filet-de-boeuf\n",
      "serving_size                                      : \n",
      "vitamin-b12_100g                                  : \n",
      "serum-proteins_100g                               : \n",
      "brands_tags                                       : \n",
      "additives                                         : \n",
      "carbon-footprint_100g                             : \n",
      "carbohydrates_100g                                : \n",
      "oleic-acid_100g                                   : \n",
      "vitamin-b9_100g                                   : \n",
      "lauric-acid_100g                                  : \n",
      "ingredients_from_palm_oil                         : \n",
      "palmitic-acid_100g                                : \n",
      "emb_codes                                         : \n",
      "additives_n                                       : \n",
      "packaging                                         : plastique\n",
      "salt_100g                                         : \n",
      "dihomo-gamma-linolenic-acid_100g                  : \n",
      "vitamin-e_100g                                    : \n",
      "ingredients_that_may_be_from_palm_oil_tags        : \n",
      "image_small_url                                   : http://fr.openfoodfacts.org/images/products/000/000/002/4600/front.3.200.jpg\n",
      "omega-6-fat_100g                                  : \n",
      "myristic-acid_100g                                : \n",
      "iron_100g                                         : \n",
      "vitamin-pp_100g                                   : \n",
      "chromium_100g                                     : \n",
      "sucrose_100g                                      : \n",
      "alpha-linolenic-acid_100g                         : \n",
      "main_category                                     : fr:filet-de-boeuf\n",
      "molybdenum_100g                                   : \n",
      "ph_100g                                           : \n",
      "ingredients_from_palm_oil_tags                    : \n",
      "vitamin-b1_100g                                   : \n",
      "emb_codes_tags                                    : \n",
      "copper_100g                                       : \n",
      "vitamin-c_100g                                    : \n",
      "ingredients_that_may_be_from_palm_oil             : \n",
      "states_tags                                       : en:to-be-completed,en:nutrition-facts-to-be-completed,en:ingredients-to-be-completed,en:expiration-date-completed,en:characteristics-to-be-completed,en:categories-completed,en:brands-to-be-completed,en:packaging-completed,en:quantity-completed,en:product-name-completed,en:photos-to-be-validated,en:photos-uploaded\n",
      "cholesterol_100g                                  : \n",
      "chlorophyl_100g                                   : \n",
      "monounsaturated-fat_100g                          : \n",
      "omega-3-fat_100g                                  : \n",
      "categories_fr                                     : Filet-de-boeuf\n",
      "docosahexaenoic-acid_100g                         : \n",
      "gamma-linolenic-acid_100g                         : \n",
      "additives_fr                                      : \n",
      "vitamin-b6_100g                                   : \n",
      "manufacturing_places_tags                         : \n",
      "pnns_groups_2                                     : unknown\n",
      "main_category_fr                                  : Filet-de-boeuf\n",
      "pnns_groups_1                                     : unknown\n",
      "omega-9-fat_100g                                  : \n",
      "no_nutriments                                     : \n",
      "trans-fat_100g                                    : \n",
      "last_modified_datetime                            : 2015-06-17T10:11:54Z\n",
      "casein_100g                                       : \n",
      "nutrition-score-fr_100g                           : \n",
      "states                                            : en:to-be-completed, en:nutrition-facts-to-be-completed, en:ingredients-to-be-completed, en:expiration-date-completed, en:characteristics-to-be-completed, en:categories-completed, en:brands-to-be-completed, en:packaging-completed, en:quantity-completed, en:product-name-completed, en:photos-to-be-validated, en:photos-uploaded\n",
      "iodine_100g                                       : \n",
      "maltodextrins_100g                                : \n",
      "fiber_100g                                        : \n",
      "nucleotides_100g                                  : \n",
      "elaidic-acid_100g                                 : \n",
      "caproic-acid_100g                                 : \n",
      "generic_name                                      : \n",
      "manufacturing_places                              : \n",
      "product_name                                      : Filet de bœuf\n",
      "pantothenic-acid_100g                             : \n",
      "nutrition_grade_fr                                : \n",
      "potassium_100g                                    : \n",
      "eicosapentaenoic-acid_100g                        : \n",
      "brands                                            : \n",
      "ingredients_that_may_be_from_palm_oil_n           : \n",
      "manganese_100g                                    : \n",
      "url                                               : http://world-fr.openfoodfacts.org/produit/0000000024600/filet-de-boeuf\n",
      "vitamin-k_100g                                    : \n",
      "energy-from-fat_100g                              : \n",
      "capric-acid_100g                                  : \n",
      "alcohol_100g                                      : \n",
      "lactose_100g                                      : \n",
      "linoleic-acid_100g                                : \n",
      "quantity                                          : 2.46 kg\n"
     ]
    }
   ],
   "source": [
    "d = off.get_row_dict(0)\n",
    "for a in d:\n",
    "    print(a.ljust(50)+': '+d[a])"
   ]
  },
  {
   "cell_type": "code",
   "execution_count": 26,
   "metadata": {
    "collapsed": false
   },
   "outputs": [
    {
     "name": "stdout",
     "output_type": "stream",
     "text": [
      "\n",
      "en:canada\n",
      "en:singapore\n",
      "en:australia\n",
      "en:united-kingdom\n",
      "en:new-zealand\n",
      "en:saudi-arabia\n",
      "en:switzerland\n",
      "en:spain\n",
      "en:france\n",
      "en:belgium\n",
      "en:united-states\n",
      "en:germany\n",
      "en:moldova\n",
      "en:thailand\n",
      "en:reunion\n",
      "en:brazil\n",
      "en:finland\n",
      "en:panama\n"
     ]
    }
   ],
   "source": [
    "l = off.get_fields('countries_tags')\n",
    "countries = []\n",
    "for i in l:\n",
    "    countries.extend([ j.replace(' ', '') for j in i.split(',') ])\n",
    "from collections import Counter\n",
    "cptr = Counter(countries)\n",
    "for s in cptr:\n",
    "    print(s)"
   ]
  },
  {
   "cell_type": "markdown",
   "metadata": {},
   "source": [
    "A partir de ces données, il est possible de construire un graphe biparti qui associe à chaque produit un pays dans lequel il est vendu.\n",
    "\n",
    "Ce graphe biparti aura deux types de sommets : Le premier type sera un nom de produit et le second un pays où il est vendu."
   ]
  },
  {
   "cell_type": "code",
   "execution_count": 27,
   "metadata": {
    "collapsed": false
   },
   "outputs": [
    {
     "name": "stdout",
     "output_type": "stream",
     "text": [
      "[0, 9, 12, 12, 17, 14, 15, 14, 8, 9, 10, 16, 10, 10, 11, 10, 9, 10, 9]\n"
     ]
    }
   ],
   "source": [
    "bipartite = {}\n",
    "prop = 'countries_tags'\n",
    "\n",
    "l = off.get_fields(prop)\n",
    "edges = []\n",
    "for i,a in enumerate(l):\n",
    "    edges.extend([ (i, j.replace(' ', '')) for j in a.split(',') ])\n",
    "# now edges contains a list of (product, country)\n",
    "\n",
    "# bipartite: country -> [product id(int)] list \n",
    "for u,v in edges:\n",
    "    if v in bipartite:\n",
    "        bipartite[v].append(u)\n",
    "    else:\n",
    "        bipartite[v] = [u]\n",
    "    \n",
    "print([len(i) for i in bipartite])"
   ]
  },
  {
   "cell_type": "markdown",
   "metadata": {},
   "source": [
    "Maintenant que nous avons créé le graphe biparti, nous pouvons calculer le graphe induit à partir du graphe biparti (méthode de Zachari Neal)."
   ]
  },
  {
   "cell_type": "code",
   "execution_count": 28,
   "metadata": {
    "collapsed": false
   },
   "outputs": [
    {
     "name": "stdout",
     "output_type": "stream",
     "text": [
      "\n",
      "en:canada\n",
      "en:singapore\n",
      "en:australia\n",
      "en:united-kingdom\n",
      "en:new-zealand\n",
      "en:saudi-arabia\n",
      "en:switzerland\n",
      "en:spain\n",
      "en:france\n",
      "en:belgium\n",
      "en:united-states\n",
      "en:germany\n",
      "en:moldova\n",
      "en:thailand\n",
      "en:reunion\n",
      "en:brazil\n",
      "en:finland\n",
      "en:panama\n",
      "0.5\n"
     ]
    }
   ],
   "source": [
    "induced = {} # set of products with a list of product (adjency list)\n",
    "weights = {} # set of couples (product, product) -> weight (float)\n",
    "for country in bipartite:\n",
    "    print(country)\n",
    "    weight = float(len(bipartite[country]))\n",
    "    for prod1 in bipartite[country]:\n",
    "        for prod2 in bipartite[country]:\n",
    "            if prod1 < prod2:\n",
    "                if prod1 not in induced:\n",
    "                    induced[prod1] = []\n",
    "                if prod2 not in induced[prod1]:\n",
    "                    induced[prod1] = [prod2]\n",
    "                weights[(prod1,prod2)] = weights.get((prod1, prod2), 0.)+1./weight\n",
    "\n",
    "print(max(weights.values()))\n"
   ]
  },
  {
   "cell_type": "markdown",
   "metadata": {},
   "source": [
    "Maintenant que nous avons calculé le graphe induit, nous pouvons générer un format dont nous nous servirons pour la visualisation."
   ]
  },
  {
   "cell_type": "code",
   "execution_count": 63,
   "metadata": {
    "collapsed": false
   },
   "outputs": [
    {
     "name": "stdout",
     "output_type": "stream",
     "text": [
      "{\"edges\": [{\"from\": \"6\", \"to\": \"9\", \"value\": 0.07692307692307693}, {\"from\": \"10\", \"to\": \"17\", \"value\": 0.07692307692307693}, {\"from\": \"0\", \"to\": \"20\", \"value\": 0.07692307692307693}, {\"from\": \"1\", \"to\": \"17\", \"value\": 0.07692307692307693}, {\"from\": \"0\", \"to\": \"7\", \"value\": 0.07692307692307693}, {\"from\": \"1\", \"to\": \"6\", \"value\": 0.07692307692307693}, {\"from\": \"0\", \"to\": \"10\", \"value\": 0.07692307692307693}, {\"from\": \"3\", \"to\": \"7\", \"value\": 0.07692307692307693}, {\"from\": \"6\", \"to\": \"7\", \"value\": 0.07692307692307693}, {\"from\": \"17\", \"to\": \"20\", \"value\": 0.07692307692307693}, {\"from\": \"6\", \"to\": \"10\", \"value\": 0.07692307692307693}, {\"from\": \"5\", \"to\": \"18\", \"value\": 0.125}, {\"from\": \"0\", \"to\": \"17\", \"value\": 0.07692307692307693}, {\"from\": \"0\", \"to\": \"4\", \"value\": 0.07692307692307693}, {\"from\": \"4\", \"to\": \"10\", \"value\": 0.07692307692307693}, {\"from\": \"2\", \"to\": \"6\", \"value\": 0.07692307692307693}, {\"from\": \"15\", \"to\": \"18\", \"value\": 0.125}, {\"from\": \"5\", \"to\": \"11\", \"value\": 0.125}, {\"from\": \"4\", \"to\": \"16\", \"value\": 0.07692307692307693}, {\"from\": \"9\", \"to\": \"16\", \"value\": 0.07692307692307693}, {\"from\": \"14\", \"to\": \"15\", \"value\": 0.125}, {\"from\": \"5\", \"to\": \"21\", \"value\": 0.125}, {\"from\": \"11\", \"to\": \"21\", \"value\": 0.125}, {\"from\": \"2\", \"to\": \"17\", \"value\": 0.07692307692307693}, {\"from\": \"0\", \"to\": \"1\", \"value\": 0.07692307692307693}, {\"from\": \"5\", \"to\": \"14\", \"value\": 0.125}, {\"from\": \"14\", \"to\": \"18\", \"value\": 0.125}, {\"from\": \"14\", \"to\": \"21\", \"value\": 0.125}, {\"from\": \"11\", \"to\": \"15\", \"value\": 0.125}, {\"from\": \"7\", \"to\": \"8\", \"value\": 0.07692307692307693}, {\"from\": \"6\", \"to\": \"16\", \"value\": 0.07692307692307693}, {\"from\": \"8\", \"to\": \"9\", \"value\": 0.07692307692307693}, {\"from\": \"3\", \"to\": \"17\", \"value\": 0.07692307692307693}, {\"from\": \"15\", \"to\": \"23\", \"value\": 0.125}, {\"from\": \"1\", \"to\": \"16\", \"value\": 0.07692307692307693}, {\"from\": \"3\", \"to\": \"6\", \"value\": 0.07692307692307693}, {\"from\": \"1\", \"to\": \"10\", \"value\": 0.07692307692307693}, {\"from\": \"7\", \"to\": \"20\", \"value\": 0.07692307692307693}, {\"from\": \"9\", \"to\": \"20\", \"value\": 0.07692307692307693}, {\"from\": \"12\", \"to\": \"18\", \"value\": 0.125}, {\"from\": \"13\", \"to\": \"19\", \"value\": 0.5}, {\"from\": \"18\", \"to\": \"21\", \"value\": 0.125}, {\"from\": \"0\", \"to\": \"8\", \"value\": 0.07692307692307693}, {\"from\": \"2\", \"to\": \"7\", \"value\": 0.07692307692307693}, {\"from\": \"4\", \"to\": \"6\", \"value\": 0.07692307692307693}, {\"from\": \"4\", \"to\": \"17\", \"value\": 0.07692307692307693}, {\"from\": \"6\", \"to\": \"20\", \"value\": 0.07692307692307693}, {\"from\": \"10\", \"to\": \"20\", \"value\": 0.07692307692307693}, {\"from\": \"16\", \"to\": \"20\", \"value\": 0.07692307692307693}, {\"from\": \"12\", \"to\": \"23\", \"value\": 0.125}, {\"from\": \"0\", \"to\": \"2\", \"value\": 0.07692307692307693}, {\"from\": \"1\", \"to\": \"3\", \"value\": 0.07692307692307693}, {\"from\": \"4\", \"to\": \"8\", \"value\": 0.07692307692307693}, {\"from\": \"2\", \"to\": \"8\", \"value\": 0.07692307692307693}, {\"from\": \"11\", \"to\": \"14\", \"value\": 0.125}, {\"from\": \"6\", \"to\": \"17\", \"value\": 0.07692307692307693}, {\"from\": \"5\", \"to\": \"23\", \"value\": 0.125}, {\"from\": \"1\", \"to\": \"20\", \"value\": 0.07692307692307693}, {\"from\": \"16\", \"to\": \"17\", \"value\": 0.07692307692307693}, {\"from\": \"3\", \"to\": \"10\", \"value\": 0.07692307692307693}, {\"from\": \"8\", \"to\": \"10\", \"value\": 0.07692307692307693}, {\"from\": \"3\", \"to\": \"16\", \"value\": 0.07692307692307693}, {\"from\": \"8\", \"to\": \"16\", \"value\": 0.07692307692307693}, {\"from\": \"14\", \"to\": \"23\", \"value\": 0.125}, {\"from\": \"12\", \"to\": \"14\", \"value\": 0.125}, {\"from\": \"21\", \"to\": \"23\", \"value\": 0.125}, {\"from\": \"2\", \"to\": \"20\", \"value\": 0.07692307692307693}, {\"from\": \"1\", \"to\": \"4\", \"value\": 0.07692307692307693}, {\"from\": \"3\", \"to\": \"9\", \"value\": 0.07692307692307693}, {\"from\": \"2\", \"to\": \"3\", \"value\": 0.07692307692307693}, {\"from\": \"1\", \"to\": \"9\", \"value\": 0.07692307692307693}, {\"from\": \"6\", \"to\": \"8\", \"value\": 0.07692307692307693}, {\"from\": \"10\", \"to\": \"16\", \"value\": 0.07692307692307693}, {\"from\": \"15\", \"to\": \"21\", \"value\": 0.125}, {\"from\": \"0\", \"to\": \"6\", \"value\": 0.07692307692307693}, {\"from\": \"18\", \"to\": \"23\", \"value\": 0.125}, {\"from\": \"1\", \"to\": \"7\", \"value\": 0.07692307692307693}, {\"from\": \"0\", \"to\": \"9\", \"value\": 0.07692307692307693}, {\"from\": \"3\", \"to\": \"4\", \"value\": 0.07692307692307693}, {\"from\": \"2\", \"to\": \"4\", \"value\": 0.07692307692307693}, {\"from\": \"4\", \"to\": \"7\", \"value\": 0.07692307692307693}, {\"from\": \"11\", \"to\": \"23\", \"value\": 0.125}, {\"from\": \"0\", \"to\": \"16\", \"value\": 0.07692307692307693}, {\"from\": \"7\", \"to\": \"16\", \"value\": 0.07692307692307693}, {\"from\": \"0\", \"to\": \"3\", \"value\": 0.07692307692307693}, {\"from\": \"1\", \"to\": \"2\", \"value\": 0.07692307692307693}, {\"from\": \"4\", \"to\": \"9\", \"value\": 0.07692307692307693}, {\"from\": \"2\", \"to\": \"9\", \"value\": 0.07692307692307693}, {\"from\": \"5\", \"to\": \"12\", \"value\": 0.125}, {\"from\": \"3\", \"to\": \"20\", \"value\": 0.07692307692307693}, {\"from\": \"8\", \"to\": \"20\", \"value\": 0.07692307692307693}, {\"from\": \"9\", \"to\": \"17\", \"value\": 0.07692307692307693}, {\"from\": \"7\", \"to\": \"10\", \"value\": 0.07692307692307693}, {\"from\": \"11\", \"to\": \"18\", \"value\": 0.125}, {\"from\": \"12\", \"to\": \"21\", \"value\": 0.125}, {\"from\": \"2\", \"to\": \"16\", \"value\": 0.07692307692307693}, {\"from\": \"7\", \"to\": \"17\", \"value\": 0.07692307692307693}, {\"from\": \"2\", \"to\": \"10\", \"value\": 0.07692307692307693}, {\"from\": \"9\", \"to\": \"10\", \"value\": 0.07692307692307693}, {\"from\": \"5\", \"to\": \"15\", \"value\": 0.125}, {\"from\": \"8\", \"to\": \"17\", \"value\": 0.07692307692307693}, {\"from\": \"4\", \"to\": \"20\", \"value\": 0.07692307692307693}, {\"from\": \"11\", \"to\": \"12\", \"value\": 0.125}, {\"from\": \"7\", \"to\": \"9\", \"value\": 0.07692307692307693}, {\"from\": \"12\", \"to\": \"15\", \"value\": 0.125}, {\"from\": \"3\", \"to\": \"8\", \"value\": 0.07692307692307693}, {\"from\": \"1\", \"to\": \"8\", \"value\": 0.07692307692307693}], \"names\": [\"0\", \"1\", \"2\", \"3\", \"4\", \"5\", \"6\", \"7\", \"8\", \"9\", \"10\", \"11\", \"12\", \"13\", \"14\", \"15\", \"16\", \"17\", \"18\", \"21\"], \"nodes\": [\"0\", \"1\", \"2\", \"3\", \"4\", \"5\", \"6\", \"7\", \"8\", \"9\", \"10\", \"11\", \"12\", \"13\", \"14\", \"15\", \"16\", \"17\", \"18\", \"21\"]}\n"
     ]
    }
   ],
   "source": [
    "import json\n",
    "\n",
    "output = {}\n",
    "output['nodes'] = [ str(i) for i in induced ]\n",
    "output['names'] = [ str(i) for i in induced ]\n",
    "output['edges'] = [ {'from':str(i) , 'to':str(j) , 'value': weights[(i,j)]} for (i,j) in weights ]\n",
    "print(json.dumps(output, sort_keys=True))"
   ]
  },
  {
   "cell_type": "code",
   "execution_count": 29,
   "metadata": {
    "collapsed": false
   },
   "outputs": [],
   "source": [
    "filename2 = file_name+'_edges.csv'\n",
    "with open(filename2, 'w') as f:\n",
    "    f.write(\"in out weight\\n\")\n",
    "    for a,b in weights:\n",
    "        f.write('{} {} {}\\n'.format(a,b, weights[(a,b)]))\n",
    "    \n"
   ]
  },
  {
   "cell_type": "markdown",
   "metadata": {},
   "source": [
    "Maintenant que nous avons extrait notre graphe, nous pouvons utiliser tulip pour la visualisation. Nous utilisons l'algorithme $FM^3$.\n",
    "\n",
    "![première visualisation](visu1.png)"
   ]
  },
  {
   "cell_type": "markdown",
   "metadata": {},
   "source": [
    "On souhaite maintenant afficher les noms des sommets, pour cela, nous créons un nouveau fichier csv qui contient les différentes informations requises pour tulip."
   ]
  },
  {
   "cell_type": "code",
   "execution_count": 30,
   "metadata": {
    "collapsed": false
   },
   "outputs": [],
   "source": [
    "fields = ['product_name', 'packaging', 'additives_fr', 'nutrition-score-fr_100g']\n",
    "missing_value = '#'\n",
    "\n",
    "filename3 = file_name+'_nodes.csv'\n",
    "with open(filename3, 'w') as f:\n",
    "    f.write((' '.join(['indice']+fields))+'\\n')\n",
    "    for i in range(off.get_nblines()):\n",
    "        tmp = off.get_row_dict(i)\n",
    "        indice = str(i)\n",
    "        packaging = tmp['packaging'] if tmp['packaging'] != '' else missing_value\n",
    "        name = tmp['product_name'] if tmp['product_name'] != '' else missing_value\n",
    "        additives = tmp['additives_fr'] if tmp['additives_fr'] != '' else missing_value\n",
    "        score = tmp['nutrition-score-fr_100g'] if tmp['nutrition-score-fr_100g'] != '' else missing_value\n",
    "        f.write('{} {} {} {} {}\\n'.format(indice, name.replace(' ', '-'), packaging.replace(' ', ''), additives.replace(' ', ''), score))\n",
    "\n"
   ]
  },
  {
   "cell_type": "markdown",
   "metadata": {},
   "source": [
    "Nous pouvons maintenant mettre des noms sur les sommets :\n",
    "    \n",
    "![Deuxième visualisation](visu2.png)\n",
    "\n",
    "On constate que certains produits ont leur noms manquants. Ceux-ci sont généralement incomplets et peuvent être éliminés de la base de données avant le traitement."
   ]
  },
  {
   "cell_type": "markdown",
   "metadata": {},
   "source": [
    "On peut maintenant détailler d'avantage en ajoutant plus de sommets (150 sommets qui génèrent environ 1500 arêtes).\n",
    "\n",
    "Nous obtenons la vue suivante : \n",
    "\n",
    "![visu3](visu3.png)\n"
   ]
  },
  {
   "cell_type": "markdown",
   "metadata": {},
   "source": [
    "Pour rappel, les pays représentés sont :\n",
    "\n",
    " - en:canada\n",
    " - en:united-kingdom\n",
    " - en:switzerland\n",
    " - en:spain\n",
    " - en:france\n",
    " - en:united-states\n",
    " - en:germany\n",
    " \n",
    "On peut deviner de quel pays viennent les produits : En effet, le sirop d'érable viendrait du Canada, le cluster du haut serait l'Espagne et ainsi de suite.\n",
    "\n",
    "On note également que pour la France et l'Angleterre, il existe deux produits communs : \"Creamy-Chicken-Pie\" et \"Marks & Spencer Curiously Strong mints\"."
   ]
  },
  {
   "cell_type": "markdown",
   "metadata": {},
   "source": []
  },
  {
   "cell_type": "code",
   "execution_count": null,
   "metadata": {
    "collapsed": false
   },
   "outputs": [],
   "source": []
  }
 ],
 "metadata": {
  "kernelspec": {
   "display_name": "Python 3",
   "language": "python",
   "name": "python3"
  },
  "language_info": {
   "codemirror_mode": {
    "name": "ipython",
    "version": 3
   },
   "file_extension": ".py",
   "mimetype": "text/x-python",
   "name": "python",
   "nbconvert_exporter": "python",
   "pygments_lexer": "ipython3",
   "version": "3.5.1"
  }
 },
 "nbformat": 4,
 "nbformat_minor": 0
}
